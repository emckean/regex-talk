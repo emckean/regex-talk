{
 "cells": [
  {
   "cell_type": "markdown",
   "metadata": {
    "raw_mimetype": "text/markdown",
    "slideshow": {
     "slide_type": "slide"
    }
   },
   "source": [
    "# Regular Expressions For Everyone\n",
    "\n",
    "***\n",
    "Erin McKean"
   ]
  },
  {
   "cell_type": "markdown",
   "metadata": {
    "slideshow": {
     "slide_type": "slide"
    }
   },
   "source": [
    "\n",
    "    \n",
    "<div><img src=\"images/callforcode.png\" alt=\"callforcode\" style=\"width: full;\"/></div>\n"
   ]
  },
  {
   "cell_type": "markdown",
   "metadata": {
    "slideshow": {
     "slide_type": "slide"
    }
   },
   "source": [
    "<div style=\"width: 900px;\">\n",
    "    \n",
    "<div style=\"width: 550px; height: 450px; float: left;\" ><div style=\"text-align: center\"><img src=\"images/hirobot.png\" alt=\"hello robot\" style=\"width: 500px;\"/></div>\n",
    "</div>\n",
    "<div style=\"width: 10px; height: 200px; float: left;\"></div>\n",
    "    <div style=\"width: 350px; height: 300px; float: right;\"><div style=\"text-align: left; font-size: large; font-family: serif\">\n",
    "    <br>\n",
    "    <span style=\"font-size: 28px;line-height: 115%;\">Developer Advocate, IBM</span>\n",
    "    <p>\n",
    "    <span style=\"font-size: 28px; line-height: 115%;\">wordnik.com &amp; developer.wordnik.com</span>\n",
    "    <p>\n",
    "    \n",
    " </div></div>\n",
    "    </div>\n",
    "</div>"
   ]
  },
  {
   "cell_type": "markdown",
   "metadata": {
    "slideshow": {
     "slide_type": "slide"
    }
   },
   "source": [
    "<div style=\"width: 900px;\">\n",
    "    \n",
    "<div style=\"width: 550px; height: 450px; float: left;\" ><div style=\"text-align: center\"><img src=\"images/hirobot-link.png\" alt=\"link robot\" style=\"width: 500px;\"/></div>\n",
    "</div>\n",
    "</div>\n",
    "    </div>\n",
    "</div>"
   ]
  },
  {
   "cell_type": "markdown",
   "metadata": {
    "slideshow": {
     "slide_type": "slide"
    }
   },
   "source": [
    "<div style=\"text-align: center\"><img src=\"images/regex8020.png\" alt=\"pie chart\" style=\"width: full;\"/></div>"
   ]
  },
  {
   "cell_type": "markdown",
   "metadata": {
    "slideshow": {
     "slide_type": "skip"
    }
   },
   "source": [
    "“For all knowledge and wonder (which is the seed of knowledge) is an impression of pleasure in itself.”\n",
    "\n",
    "—Francis Bacon"
   ]
  },
  {
   "cell_type": "markdown",
   "metadata": {
    "slideshow": {
     "slide_type": "slide"
    }
   },
   "source": [
    "**Frequency Illusion**: “The illusion in which a word, a name, or other thing that has recently come to one’s attention suddenly seems to appear with improbable frequency shortly afterwards.” \n",
    "\n",
    "<small>—Wikipedia contributors, \"List of cognitive biases,\" Wikipedia, The Free Encyclopedia, https://en.wikipedia.org/w/index.php?title=List_of_cognitive_biases&oldid=823170077 (accessed February 13, 2018).</small> "
   ]
  },
  {
   "cell_type": "markdown",
   "metadata": {
    "slideshow": {
     "slide_type": "slide"
    }
   },
   "source": [
    "### What are [regular expressions | regex | regexp]?"
   ]
  },
  {
   "cell_type": "markdown",
   "metadata": {
    "slideshow": {
     "slide_type": "fragment"
    }
   },
   "source": [
    "“.... a sequence of characters that define a search pattern.”\n",
    "\n",
    "<small>—Wikipedia contributors, \"Regular expression,\" Wikipedia, The Free Encyclopedia, https://en.wikipedia.org/w/index.php?title=Regular_expression&oldid=851459856 (accessed July 24, 2018). </small>"
   ]
  },
  {
   "cell_type": "markdown",
   "metadata": {
    "slideshow": {
     "slide_type": "fragment"
    }
   },
   "source": [
    "\n",
    "    \n",
    "<div><img src=\"images/wikipedia-regex.png\" alt=\"wikipedia-warning\" style=\"width: full;\"/></div>\n"
   ]
  },
  {
   "cell_type": "markdown",
   "metadata": {
    "slideshow": {
     "slide_type": "slide"
    }
   },
   "source": [
    "### What are *JavaScript* regular expressions?"
   ]
  },
  {
   "cell_type": "markdown",
   "metadata": {
    "slideshow": {
     "slide_type": "fragment"
    }
   },
   "source": [
    "Regular expressions are patterns used to match character combinations in strings. In JavaScript, regular expressions are also objects.\n",
    "\n",
    "<small>—MDN web docs, _developer.mozilla.org_</small>"
   ]
  },
  {
   "cell_type": "markdown",
   "metadata": {
    "slideshow": {
     "slide_type": "slide"
    }
   },
   "source": [
    "### Creating regex"
   ]
  },
  {
   "cell_type": "code",
   "execution_count": null,
   "metadata": {
    "scrolled": true,
    "slideshow": {
     "slide_type": "fragment"
    }
   },
   "outputs": [],
   "source": [
    "//a regular expression literal\n",
    "//this will match the lowercase letter z, once\n",
    "var myRegex = /z/;\n",
    "\n",
    "//because they're objects, you can also use the constructor function\n",
    "var myConstructedRegex = new RegExp('z');\n",
    "\n",
    "// literal methods: compiled at load, more performant\n",
    "// constructor methods: compiled at runtime, can be created on the fly"
   ]
  },
  {
   "cell_type": "markdown",
   "metadata": {
    "slideshow": {
     "slide_type": "slide"
    }
   },
   "source": [
    "### RegEx.test()"
   ]
  },
  {
   "cell_type": "code",
   "execution_count": 231,
   "metadata": {
    "scrolled": false,
    "slideshow": {
     "slide_type": "fragment"
    }
   },
   "outputs": [
    {
     "name": "stdout",
     "output_type": "stream",
     "text": [
      "It was the best of times, it was the worst of times, it was the age of wisdom, it was the age of foolishness, it was the epoch of belief, it was the epoch of incredulity, it was the season of Light, it was the season of Darkness, it was the spring of hope, it was the winter of despair, we had everything before us, we had nothing before us, we were all going direct to Heaven, we were all going direct the other way – in short, the period was so far like the present period, that some of its noisiest authorities insisted on its being received, for good or for evil, in the superlative degree of comparison only.\n"
     ]
    }
   ],
   "source": [
    "var longString = \"It was the best of times, it was the worst of times, it was the age of wisdom, it was the age of foolishness, it was the epoch of belief, it was the epoch of incredulity, it was the season of Light, it was the season of Darkness, it was the spring of hope, it was the winter of despair, we had everything before us, we had nothing before us, we were all going direct to Heaven, we were all going direct the other way – in short, the period was so far like the present period, that some of its noisiest authorities insisted on its being received, for good or for evil, in the superlative degree of comparison only.\"; \n",
    "console.log(longString);"
   ]
  },
  {
   "cell_type": "code",
   "execution_count": 232,
   "metadata": {
    "scrolled": true,
    "slideshow": {
     "slide_type": "fragment"
    }
   },
   "outputs": [
    {
     "name": "stdout",
     "output_type": "stream",
     "text": [
      "false\n",
      "true\n"
     ]
    }
   ],
   "source": [
    "//the 'test' method returns true or false\n",
    "// does this long string contain the letter 'z'?\n",
    "console.log(myRegex.test(longString));\n",
    "// does this long string contain the capital letter 'I'?\n",
    "var myRegexCapital = /I/;\n",
    "console.log(myRegexCapital.test(longString));"
   ]
  },
  {
   "cell_type": "markdown",
   "metadata": {
    "slideshow": {
     "slide_type": "slide"
    }
   },
   "source": [
    "### RegEx.exec()"
   ]
  },
  {
   "cell_type": "code",
   "execution_count": 233,
   "metadata": {
    "scrolled": true,
    "slideshow": {
     "slide_type": "fragment"
    }
   },
   "outputs": [
    {
     "name": "stdout",
     "output_type": "stream",
     "text": [
      "[Array] [\"I\"]\n"
     ]
    }
   ],
   "source": [
    "//the 'exec' method returns an array\n",
    "var resultArray = myRegexCapital.exec(longString);\n",
    "console.log(resultArray);"
   ]
  },
  {
   "cell_type": "code",
   "execution_count": 234,
   "metadata": {
    "scrolled": true,
    "slideshow": {
     "slide_type": "fragment"
    }
   },
   "outputs": [
    {
     "name": "stdout",
     "output_type": "stream",
     "text": [
      "0\n"
     ]
    }
   ],
   "source": [
    "console.log(resultArray.index);"
   ]
  },
  {
   "cell_type": "code",
   "execution_count": 235,
   "metadata": {
    "scrolled": true,
    "slideshow": {
     "slide_type": "fragment"
    }
   },
   "outputs": [
    {
     "name": "stdout",
     "output_type": "stream",
     "text": [
      "It was the best of times, it was the worst of times, it was the age of wisdom, it was the age of foolishness, it was the epoch of belief, it was the epoch of incredulity, it was the season of Light, it was the season of Darkness, it was the spring of hope, it was the winter of despair, we had everything before us, we had nothing before us, we were all going direct to Heaven, we were all going direct the other way – in short, the period was so far like the present period, that some of its noisiest authorities insisted on its being received, for good or for evil, in the superlative degree of comparison only.\n"
     ]
    }
   ],
   "source": [
    "console.log(resultArray.input);"
   ]
  },
  {
   "cell_type": "markdown",
   "metadata": {
    "slideshow": {
     "slide_type": "slide"
    }
   },
   "source": [
    "### String.match() and String.search()"
   ]
  },
  {
   "cell_type": "code",
   "execution_count": 236,
   "metadata": {
    "scrolled": true,
    "slideshow": {
     "slide_type": "fragment"
    }
   },
   "outputs": [
    {
     "name": "stdout",
     "output_type": "stream",
     "text": [
      "[Array] [\"I\"]\n"
     ]
    }
   ],
   "source": [
    "// String.match() returns an array\n",
    "console.log(longString.match(myRegexCapital));"
   ]
  },
  {
   "cell_type": "code",
   "execution_count": 237,
   "metadata": {
    "scrolled": true,
    "slideshow": {
     "slide_type": "fragment"
    }
   },
   "outputs": [
    {
     "name": "stdout",
     "output_type": "stream",
     "text": [
      "0\n",
      "-1\n"
     ]
    }
   ],
   "source": [
    "//String.search() returns the index of the first match or -1 \n",
    "console.log(longString.search(myRegexCapital));\n",
    "\n",
    "// remember myRegex = /z/\n",
    "console.log(longString.search(myRegex));"
   ]
  },
  {
   "cell_type": "markdown",
   "metadata": {
    "slideshow": {
     "slide_type": "slide"
    }
   },
   "source": [
    "### and don't forget String.split()"
   ]
  },
  {
   "cell_type": "code",
   "execution_count": 238,
   "metadata": {
    "scrolled": true,
    "slideshow": {
     "slide_type": "fragment"
    }
   },
   "outputs": [
    {
     "name": "stdout",
     "output_type": "stream",
     "text": [
      "[Array] [\"\",\" the best of times, \",\" the worst of times, \",\" the age of wisdom, \",\" the age of foolishness, \",\" the epoch of belief, \",\" the epoch of incredulity, \",\" the season of Light, \",\" the season of Darkness, \",\" the spring of hope, \",\" the winter of despair, we had everything before us, we had nothing before us, we were all going direct to Heaven, we were all going direct the other way – in short, the period was so far like the present period, that some of its noisiest authorities insisted on its being received, for good or for evil, in the superlative degree of comparison only.\"]\n"
     ]
    }
   ],
   "source": [
    "//String.split()\n",
    "var bestRegex = /it was/i;\n",
    "console.log(longString.split(bestRegex));"
   ]
  },
  {
   "cell_type": "markdown",
   "metadata": {
    "slideshow": {
     "slide_type": "slide"
    }
   },
   "source": [
    "### Making Patterns (the fun part)"
   ]
  },
  {
   "cell_type": "code",
   "execution_count": 239,
   "metadata": {
    "scrolled": true,
    "slideshow": {
     "slide_type": "fragment"
    }
   },
   "outputs": [
    {
     "name": "stdout",
     "output_type": "stream",
     "text": [
      "[Array] [\"i\"]\n"
     ]
    }
   ],
   "source": [
    "// simple characters match themselves\n",
    "var regexLowerCase = /i/;\n",
    "console.log(regexLowerCase.exec(longString));"
   ]
  },
  {
   "cell_type": "code",
   "execution_count": 240,
   "metadata": {
    "scrolled": true,
    "slideshow": {
     "slide_type": "slide"
    }
   },
   "outputs": [
    {
     "name": "stdout",
     "output_type": "stream",
     "text": [
      "[Array] [\"I\"]\n"
     ]
    }
   ],
   "source": [
    "// case sensitive unless you use the 'i' flag\n",
    "var regexAnyI = /i/i;\n",
    "console.log(regexAnyI.exec(longString));"
   ]
  },
  {
   "cell_type": "code",
   "execution_count": 242,
   "metadata": {
    "scrolled": true,
    "slideshow": {
     "slide_type": "slide"
    }
   },
   "outputs": [
    {
     "name": "stdout",
     "output_type": "stream",
     "text": [
      "[Array] [\"i\",\"i\",\"i\",\"i\",\"i\",\"i\",\"i\",\"i\",\"i\",\"i\",\"i\",\"i\",\"i\",\"i\",\"i\",\"i\",\"i\",\"i\",\"i\",\"i\",\"i\",\"i\",\"i\",\"i\",\"i\",\"i\",\"i\",\"i\",\"i\",\"i\",\"i\",\"i\",\"i\",\"i\",\"i\",\"i\",\"i\",\"i\",\"i\",\"i\",\"i\",\"i\",\"i\",\"i\"]\n"
     ]
    }
   ],
   "source": [
    "// want to match them all? try the g flag\n",
    "// g flag does something different with RegEx.exec()\n",
    "var regexAnyI = /i/g;\n",
    "console.log(longString.match(regexAnyI));"
   ]
  },
  {
   "cell_type": "markdown",
   "metadata": {
    "slideshow": {
     "slide_type": "slide"
    }
   },
   "source": [
    "### Special Characters"
   ]
  },
  {
   "cell_type": "code",
   "execution_count": 243,
   "metadata": {
    "scrolled": true,
    "slideshow": {
     "slide_type": "fragment"
    }
   },
   "outputs": [
    {
     "name": "stdout",
     "output_type": "stream",
     "text": [
      "[Array] [\"I\",\"t\",\" \",\"w\",\"a\",\"s\",\" \",\"t\",\"h\",\"e\",\" \",\"b\",\"e\",\"s\",\"t\",\" \",\"o\",\"f\",\" \",\"t\",\"i\",\"m\",\"e\",\"s\",\",\",\" \",\"i\",\"t\",\" \",\"w\",\"a\",\"s\",\" \",\"t\",\"h\",\"e\",\" \",\"w\",\"o\",\"r\",\"s\",\"t\",\" \",\"o\",\"f\",\" \",\"t\",\"i\",\"m\",\"e\",\"s\",\",\",\" \",\"i\",\"t\",\" \",\"w\",\"a\",\"s\",\" \",\"t\",\"h\",\"e\",\" \",\"a\",\"g\",\"e\",\" \",\"o\",\"f\",\" \",\"w\",\"i\",\"s\",\"d\",\"o\",\"m\",\",\",\" \",\"i\",\"t\",\" \",\"w\",\"a\",\"s\",\" \",\"t\",\"h\",\"e\",\" \",\"a\",\"g\",\"e\",\" \",\"o\",\"f\",\" \",\"f\",\"o\",\"o\",\"l\",\"i\",\"s\",\"h\",\"n\",\"e\",\"s\",\"s\",\",\",\" \",\"i\",\"t\",\" \",\"w\",\"a\",\"s\",\" \",\"t\",\"h\",\"e\",\" \",\"e\",\"p\",\"o\",\"c\",\"h\",\" \",\"o\",\"f\",\" \",\"b\",\"e\",\"l\",\"i\",\"e\",\"f\",\",\",\" \",\"i\",\"t\",\" \",\"w\",\"a\",\"s\",\" \",\"t\",\"h\",\"e\",\" \",\"e\",\"p\",\"o\",\"c\",\"h\",\" \",\"o\",\"f\",\" \",\"i\",\"n\",\"c\",\"r\",\"e\",\"d\",\"u\",\"l\",\"i\",\"t\",\"y\",\",\",\" \",\"i\",\"t\",\" \",\"w\",\"a\",\"s\",\" \",\"t\",\"h\",\"e\",\" \",\"s\",\"e\",\"a\",\"s\",\"o\",\"n\",\" \",\"o\",\"f\",\" \",\"L\",\"i\",\"g\",\"h\",\"t\",\",\",\" \",\"i\",\"t\",\" \",\"w\",\"a\",\"s\",\" \",\"t\",\"h\",\"e\",\" \",\"s\",\"e\",\"a\",\"s\",\"o\",\"n\",\" \",\"o\",\"f\",\" \",\"D\",\"a\",\"r\",\"k\",\"n\",\"e\",\"s\",\"s\",\",\",\" \",\"i\",\"t\",\" \",\"w\",\"a\",\"s\",\" \",\"t\",\"h\",\"e\",\" \",\"s\",\"p\",\"r\",\"i\",\"n\",\"g\",\" \",\"o\",\"f\",\" \",\"h\",\"o\",\"p\",\"e\",\",\",\" \",\"i\",\"t\",\" \",\"w\",\"a\",\"s\",\" \",\"t\",\"h\",\"e\",\" \",\"w\",\"i\",\"n\",\"t\",\"e\",\"r\",\" \",\"o\",\"f\",\" \",\"d\",\"e\",\"s\",\"p\",\"a\",\"i\",\"r\",\",\",\" \",\"w\",\"e\",\" \",\"h\",\"a\",\"d\",\" \",\"e\",\"v\",\"e\",\"r\",\"y\",\"t\",\"h\",\"i\",\"n\",\"g\",\" \",\"b\",\"e\",\"f\",\"o\",\"r\",\"e\",\" \",\"u\",\"s\",\",\",\" \",\"w\",\"e\",\" \",\"h\",\"a\",\"d\",\" \",\"n\",\"o\",\"t\",\"h\",\"i\",\"n\",\"g\",\" \",\"b\",\"e\",\"f\",\"o\",\"r\",\"e\",\" \",\"u\",\"s\",\",\",\" \",\"w\",\"e\",\" \",\"w\",\"e\",\"r\",\"e\",\" \",\"a\",\"l\",\"l\",\" \",\"g\",\"o\",\"i\",\"n\",\"g\",\" \",\"d\",\"i\",\"r\",\"e\",\"c\",\"t\",\" \",\"t\",\"o\",\" \",\"H\",\"e\",\"a\",\"v\",\"e\",\"n\",\",\",\" \",\"w\",\"e\",\" \",\"w\",\"e\",\"r\",\"e\",\" \",\"a\",\"l\",\"l\",\" \",\"g\",\"o\",\"i\",\"n\",\"g\",\" \",\"d\",\"i\",\"r\",\"e\",\"c\",\"t\",\" \",\"t\",\"h\",\"e\",\" \",\"o\",\"t\",\"h\",\"e\",\"r\",\" \",\"w\",\"a\",\"y\",\" \",\"–\",\" \",\"i\",\"n\",\" \",\"s\",\"h\",\"o\",\"r\",\"t\",\",\",\" \",\"t\",\"h\",\"e\",\" \",\"p\",\"e\",\"r\",\"i\",\"o\",\"d\",\" \",\"w\",\"a\",\"s\",\" \",\"s\",\"o\",\" \",\"f\",\"a\",\"r\",\" \",\"l\",\"i\",\"k\",\"e\",\" \",\"t\",\"h\",\"e\",\" \",\"p\",\"r\",\"e\",\"s\",\"e\",\"n\",\"t\",\" \",\"p\",\"e\",\"r\",\"i\",\"o\",\"d\",\",\",\" \",\"t\",\"h\",\"a\",\"t\",\" \",\"s\",\"o\",\"m\",\"e\",\" \",\"o\",\"f\",\" \",\"i\",\"t\",\"s\",\" \",\"n\",\"o\",\"i\",\"s\",\"i\",\"e\",\"s\",\"t\",\" \",\"a\",\"u\",\"t\",\"h\",\"o\",\"r\",\"i\",\"t\",\"i\",\"e\",\"s\",\" \",\"i\",\"n\",\"s\",\"i\",\"s\",\"t\",\"e\",\"d\",\" \",\"o\",\"n\",\" \",\"i\",\"t\",\"s\",\" \",\"b\",\"e\",\"i\",\"n\",\"g\",\" \",\"r\",\"e\",\"c\",\"e\",\"i\",\"v\",\"e\",\"d\",\",\",\" \",\"f\",\"o\",\"r\",\" \",\"g\",\"o\",\"o\",\"d\",\" \",\"o\",\"r\",\" \",\"f\",\"o\",\"r\",\" \",\"e\",\"v\",\"i\",\"l\",\",\",\" \",\"i\",\"n\",\" \",\"t\",\"h\",\"e\",\" \",\"s\",\"u\",\"p\",\"e\",\"r\",\"l\",\"a\",\"t\",\"i\",\"v\",\"e\",\" \",\"d\",\"e\",\"g\",\"r\",\"e\",\"e\",\" \",\"o\",\"f\",\" \",\"c\",\"o\",\"m\",\"p\",\"a\",\"r\",\"i\",\"s\",\"o\",\"n\",\" \",\"o\",\"n\",\"l\",\"y\",\".\"]\n"
     ]
    }
   ],
   "source": [
    "// the '.' matches any character (except a newline)\n",
    "console.log(longString.match(/./g));"
   ]
  },
  {
   "cell_type": "code",
   "execution_count": 244,
   "metadata": {
    "scrolled": true,
    "slideshow": {
     "slide_type": "slide"
    }
   },
   "outputs": [
    {
     "name": "stdout",
     "output_type": "stream",
     "text": [
      "[Array] [\"I\",\"t\",\"w\",\"a\",\"s\",\"t\",\"h\",\"e\",\"b\",\"e\",\"s\",\"t\",\"o\",\"f\",\"t\",\"i\",\"m\",\"e\",\"s\",\"i\",\"t\",\"w\",\"a\",\"s\",\"t\",\"h\",\"e\",\"w\",\"o\",\"r\",\"s\",\"t\",\"o\",\"f\",\"t\",\"i\",\"m\",\"e\",\"s\",\"i\",\"t\",\"w\",\"a\",\"s\",\"t\",\"h\",\"e\",\"a\",\"g\",\"e\",\"o\",\"f\",\"w\",\"i\",\"s\",\"d\",\"o\",\"m\",\"i\",\"t\",\"w\",\"a\",\"s\",\"t\",\"h\",\"e\",\"a\",\"g\",\"e\",\"o\",\"f\",\"f\",\"o\",\"o\",\"l\",\"i\",\"s\",\"h\",\"n\",\"e\",\"s\",\"s\",\"i\",\"t\",\"w\",\"a\",\"s\",\"t\",\"h\",\"e\",\"e\",\"p\",\"o\",\"c\",\"h\",\"o\",\"f\",\"b\",\"e\",\"l\",\"i\",\"e\",\"f\",\"i\",\"t\",\"w\",\"a\",\"s\",\"t\",\"h\",\"e\",\"e\",\"p\",\"o\",\"c\",\"h\",\"o\",\"f\",\"i\",\"n\",\"c\",\"r\",\"e\",\"d\",\"u\",\"l\",\"i\",\"t\",\"y\",\"i\",\"t\",\"w\",\"a\",\"s\",\"t\",\"h\",\"e\",\"s\",\"e\",\"a\",\"s\",\"o\",\"n\",\"o\",\"f\",\"L\",\"i\",\"g\",\"h\",\"t\",\"i\",\"t\",\"w\",\"a\",\"s\",\"t\",\"h\",\"e\",\"s\",\"e\",\"a\",\"s\",\"o\",\"n\",\"o\",\"f\",\"D\",\"a\",\"r\",\"k\",\"n\",\"e\",\"s\",\"s\",\"i\",\"t\",\"w\",\"a\",\"s\",\"t\",\"h\",\"e\",\"s\",\"p\",\"r\",\"i\",\"n\",\"g\",\"o\",\"f\",\"h\",\"o\",\"p\",\"e\",\"i\",\"t\",\"w\",\"a\",\"s\",\"t\",\"h\",\"e\",\"w\",\"i\",\"n\",\"t\",\"e\",\"r\",\"o\",\"f\",\"d\",\"e\",\"s\",\"p\",\"a\",\"i\",\"r\",\"w\",\"e\",\"h\",\"a\",\"d\",\"e\",\"v\",\"e\",\"r\",\"y\",\"t\",\"h\",\"i\",\"n\",\"g\",\"b\",\"e\",\"f\",\"o\",\"r\",\"e\",\"u\",\"s\",\"w\",\"e\",\"h\",\"a\",\"d\",\"n\",\"o\",\"t\",\"h\",\"i\",\"n\",\"g\",\"b\",\"e\",\"f\",\"o\",\"r\",\"e\",\"u\",\"s\",\"w\",\"e\",\"w\",\"e\",\"r\",\"e\",\"a\",\"l\",\"l\",\"g\",\"o\",\"i\",\"n\",\"g\",\"d\",\"i\",\"r\",\"e\",\"c\",\"t\",\"t\",\"o\",\"H\",\"e\",\"a\",\"v\",\"e\",\"n\",\"w\",\"e\",\"w\",\"e\",\"r\",\"e\",\"a\",\"l\",\"l\",\"g\",\"o\",\"i\",\"n\",\"g\",\"d\",\"i\",\"r\",\"e\",\"c\",\"t\",\"t\",\"h\",\"e\",\"o\",\"t\",\"h\",\"e\",\"r\",\"w\",\"a\",\"y\",\"i\",\"n\",\"s\",\"h\",\"o\",\"r\",\"t\",\"t\",\"h\",\"e\",\"p\",\"e\",\"r\",\"i\",\"o\",\"d\",\"w\",\"a\",\"s\",\"s\",\"o\",\"f\",\"a\",\"r\",\"l\",\"i\",\"k\",\"e\",\"t\",\"h\",\"e\",\"p\",\"r\",\"e\",\"s\",\"e\",\"n\",\"t\",\"p\",\"e\",\"r\",\"i\",\"o\",\"d\",\"t\",\"h\",\"a\",\"t\",\"s\",\"o\",\"m\",\"e\",\"o\",\"f\",\"i\",\"t\",\"s\",\"n\",\"o\",\"i\",\"s\",\"i\",\"e\",\"s\",\"t\",\"a\",\"u\",\"t\",\"h\",\"o\",\"r\",\"i\",\"t\",\"i\",\"e\",\"s\",\"i\",\"n\",\"s\",\"i\",\"s\",\"t\",\"e\",\"d\",\"o\",\"n\",\"i\",\"t\",\"s\",\"b\",\"e\",\"i\",\"n\",\"g\",\"r\",\"e\",\"c\",\"e\",\"i\",\"v\",\"e\",\"d\",\"f\",\"o\",\"r\",\"g\",\"o\",\"o\",\"d\",\"o\",\"r\",\"f\",\"o\",\"r\",\"e\",\"v\",\"i\",\"l\",\"i\",\"n\",\"t\",\"h\",\"e\",\"s\",\"u\",\"p\",\"e\",\"r\",\"l\",\"a\",\"t\",\"i\",\"v\",\"e\",\"d\",\"e\",\"g\",\"r\",\"e\",\"e\",\"o\",\"f\",\"c\",\"o\",\"m\",\"p\",\"a\",\"r\",\"i\",\"s\",\"o\",\"n\",\"o\",\"n\",\"l\",\"y\"]\n"
     ]
    }
   ],
   "source": [
    "// \\w matches any alphanumeric character, including the underscore\n",
    "console.log(longString.match(/\\w/g));"
   ]
  },
  {
   "cell_type": "code",
   "execution_count": 245,
   "metadata": {
    "scrolled": true,
    "slideshow": {
     "slide_type": "slide"
    }
   },
   "outputs": [
    {
     "name": "stdout",
     "output_type": "stream",
     "text": [
      "[Array] [\" \",\" \",\" \",\" \",\" \",\",\",\" \",\" \",\" \",\" \",\" \",\" \",\",\",\" \",\" \",\" \",\" \",\" \",\" \",\",\",\" \",\" \",\" \",\" \",\" \",\" \",\",\",\" \",\" \",\" \",\" \",\" \",\" \",\",\",\" \",\" \",\" \",\" \",\" \",\" \",\",\",\" \",\" \",\" \",\" \",\" \",\" \",\",\",\" \",\" \",\" \",\" \",\" \",\" \",\",\",\" \",\" \",\" \",\" \",\" \",\" \",\",\",\" \",\" \",\" \",\" \",\" \",\" \",\",\",\" \",\" \",\" \",\" \",\" \",\",\",\" \",\" \",\" \",\" \",\" \",\",\",\" \",\" \",\" \",\" \",\" \",\" \",\" \",\",\",\" \",\" \",\" \",\" \",\" \",\" \",\" \",\" \",\" \",\"–\",\" \",\" \",\",\",\" \",\" \",\" \",\" \",\" \",\" \",\" \",\" \",\" \",\",\",\" \",\" \",\" \",\" \",\" \",\" \",\" \",\" \",\" \",\" \",\" \",\",\",\" \",\" \",\" \",\" \",\" \",\",\",\" \",\" \",\" \",\" \",\" \",\" \",\" \",\".\"]\n"
     ]
    }
   ],
   "source": [
    "// \\W matches any non-word character\n",
    "console.log(longString.match(/\\W/g));"
   ]
  },
  {
   "cell_type": "code",
   "execution_count": 246,
   "metadata": {
    "scrolled": true,
    "slideshow": {
     "slide_type": "slide"
    }
   },
   "outputs": [
    {
     "name": "stdout",
     "output_type": "stream",
     "text": [
      "[Array] [\",\",\",\",\",\",\",\",\",\",\",\",\",\",\",\",\",\",\",\",\",\",\",\",\",\",\"–\",\",\",\",\",\",\",\",\",\".\"]\n"
     ]
    }
   ],
   "source": [
    "// you can negate special characters with [^ ]\n",
    "// this will give us all the characters that \n",
    "// aren't word characters and are not spaces\n",
    "console.log(longString.match(/[^\\w ]/g));"
   ]
  },
  {
   "cell_type": "markdown",
   "metadata": {
    "slideshow": {
     "slide_type": "slide"
    }
   },
   "source": [
    "### Other handy special characters"
   ]
  },
  {
   "cell_type": "markdown",
   "metadata": {
    "scrolled": true,
    "slideshow": {
     "slide_type": "fragment"
    }
   },
   "source": [
    "* \\d: any digit 0-9\n",
    "* \\D: any nondigit\n",
    "* \\s: any whitespace character\n",
    "* \\S: any non-whitespace character"
   ]
  },
  {
   "cell_type": "code",
   "execution_count": 247,
   "metadata": {
    "scrolled": true,
    "slideshow": {
     "slide_type": "slide"
    }
   },
   "outputs": [
    {
     "name": "stdout",
     "output_type": "stream",
     "text": [
      "[Array] [\"c\",\"l\",\"a\",\"i\",\"r\"]\n",
      "[Array] [\"é\"]\n"
     ]
    }
   ],
   "source": [
    "// what's a word character? \n",
    "var testString = 'éclair';\n",
    "console.log(testString.match(/\\w/g));\n",
    "console.log(testString.match(/\\W/g));"
   ]
  },
  {
   "cell_type": "code",
   "execution_count": 250,
   "metadata": {
    "scrolled": true,
    "slideshow": {
     "slide_type": "slide"
    }
   },
   "outputs": [
    {
     "name": "stdout",
     "output_type": "stream",
     "text": [
      "[Array] [\" \",\" \",\" \",\" \",\" \",\" \",\" \"]\n",
      "39\n"
     ]
    }
   ],
   "source": [
    "// but whitespace \\s matches \n",
    "var nonbreakingSpace = 'this is a nonbreaking space right here: ';\n",
    "console.log(nonbreakingSpace.match(/\\s/g));\n",
    "console.log(nonbreakingSpace.search(/\\u00A0/));"
   ]
  },
  {
   "cell_type": "code",
   "execution_count": 252,
   "metadata": {
    "scrolled": true,
    "slideshow": {
     "slide_type": "slide"
    }
   },
   "outputs": [
    {
     "name": "stdout",
     "output_type": "stream",
     "text": [
      "[Array] [\"🤔\"]\n"
     ]
    }
   ],
   "source": [
    "// what about emoji?\n",
    "var myFavoriteEmoji = 'my favorite emoji is 🤔';\n",
    "console.log(myFavoriteEmoji.match(/🤔/g));"
   ]
  },
  {
   "cell_type": "markdown",
   "metadata": {
    "scrolled": true,
    "slideshow": {
     "slide_type": "slide"
    }
   },
   "source": [
    "### Positioning characters"
   ]
  },
  {
   "cell_type": "code",
   "execution_count": 257,
   "metadata": {
    "scrolled": true,
    "slideshow": {
     "slide_type": "fragment"
    }
   },
   "outputs": [
    {
     "name": "stdout",
     "output_type": "stream",
     "text": [
      "0\n",
      "-1\n"
     ]
    }
   ],
   "source": [
    "//matching at the beginning of a line: ^\n",
    "console.log(longString.search(/^I/ig));\n",
    "console.log(longString.search(/^best/ig));"
   ]
  },
  {
   "cell_type": "code",
   "execution_count": 256,
   "metadata": {
    "scrolled": true,
    "slideshow": {
     "slide_type": "fragment"
    }
   },
   "outputs": [
    {
     "name": "stdout",
     "output_type": "stream",
     "text": [
      "612\n",
      "-1\n"
     ]
    }
   ],
   "source": [
    "//matching at the end of a line: $\n",
    "console.log(longString.search(/\\.$/g));\n",
    "console.log(longString.search(/best$/ig));"
   ]
  },
  {
   "cell_type": "markdown",
   "metadata": {
    "scrolled": true,
    "slideshow": {
     "slide_type": "slide"
    }
   },
   "source": [
    "### Counting characters"
   ]
  },
  {
   "cell_type": "code",
   "execution_count": 259,
   "metadata": {
    "scrolled": true,
    "slideshow": {
     "slide_type": "fragment"
    }
   },
   "outputs": [
    {
     "name": "stdout",
     "output_type": "stream",
     "text": [
      "0\n"
     ]
    }
   ],
   "source": [
    "// * matches 0 or more times\n",
    "var tooManyVowels = 'booooooooooring';\n",
    "console.log(tooManyVowels.search(/o*/));"
   ]
  },
  {
   "cell_type": "code",
   "execution_count": null,
   "metadata": {
    "slideshow": {
     "slide_type": "fragment"
    }
   },
   "outputs": [],
   "source": [
    "// this often confuses people! \n",
    "// remember *ZERO* or more times means that the first character\n",
    "// is not an 'o' so it matches zero times "
   ]
  },
  {
   "cell_type": "code",
   "execution_count": 260,
   "metadata": {
    "scrolled": true,
    "slideshow": {
     "slide_type": "fragment"
    }
   },
   "outputs": [
    {
     "name": "stdout",
     "output_type": "stream",
     "text": [
      "0\n"
     ]
    }
   ],
   "source": [
    "// ? matches zero or once\n",
    "console.log(tooManyVowels.search(/o?/g));"
   ]
  },
  {
   "cell_type": "code",
   "execution_count": 261,
   "metadata": {
    "scrolled": true,
    "slideshow": {
     "slide_type": "slide"
    }
   },
   "outputs": [
    {
     "name": "stdout",
     "output_type": "stream",
     "text": [
      "[Array] [\"oooooooooo\"]\n"
     ]
    }
   ],
   "source": [
    "// + matches at least once\n",
    "console.log(tooManyVowels.match(/o+/g));"
   ]
  },
  {
   "cell_type": "code",
   "execution_count": 262,
   "metadata": {
    "scrolled": true,
    "slideshow": {
     "slide_type": "slide"
    }
   },
   "outputs": [
    {
     "name": "stdout",
     "output_type": "stream",
     "text": [
      "[Array] [\"oo\"]\n"
     ]
    }
   ],
   "source": [
    "//you can give an exact count with {}\n",
    "console.log(tooManyVowels.match(/o{2}/));"
   ]
  },
  {
   "cell_type": "code",
   "execution_count": 263,
   "metadata": {
    "scrolled": true,
    "slideshow": {
     "slide_type": "fragment"
    }
   },
   "outputs": [
    {
     "name": "stdout",
     "output_type": "stream",
     "text": [
      "[Array] [\"oo\",\"oo\",\"oo\",\"oo\",\"oo\"]\n"
     ]
    }
   ],
   "source": [
    "//give upper and lower bounds\n",
    "// (ten 'o' in tooManyVowels)\n",
    "console.log(tooManyVowels.match(/o{1,2}/g));"
   ]
  },
  {
   "cell_type": "code",
   "execution_count": 264,
   "metadata": {
    "scrolled": true,
    "slideshow": {
     "slide_type": "fragment"
    }
   },
   "outputs": [
    {
     "name": "stdout",
     "output_type": "stream",
     "text": [
      "[Array] [\"oooooooooo\"]\n"
     ]
    }
   ],
   "source": [
    "//if no upper bound, then it's ∞\n",
    "console.log(tooManyVowels.match(/o{1,}/g));"
   ]
  },
  {
   "cell_type": "markdown",
   "metadata": {
    "scrolled": true,
    "slideshow": {
     "slide_type": "slide"
    }
   },
   "source": [
    "### Greediness"
   ]
  },
  {
   "cell_type": "code",
   "execution_count": 265,
   "metadata": {
    "scrolled": true,
    "slideshow": {
     "slide_type": "fragment"
    }
   },
   "outputs": [
    {
     "name": "stdout",
     "output_type": "stream",
     "text": [
      "[Array] [\"oooooooooo\"]\n",
      "[Array] [\"o\"]\n"
     ]
    }
   ],
   "source": [
    "//add a ? after *, +, ?, or {} to match as few characters as possible\n",
    "console.log(tooManyVowels.match(/o+/));\n",
    "console.log(tooManyVowels.match(/o+?/));"
   ]
  },
  {
   "cell_type": "markdown",
   "metadata": {
    "scrolled": true,
    "slideshow": {
     "slide_type": "slide"
    }
   },
   "source": [
    "### Character sets"
   ]
  },
  {
   "cell_type": "code",
   "execution_count": 266,
   "metadata": {
    "scrolled": true,
    "slideshow": {
     "slide_type": "fragment"
    }
   },
   "outputs": [
    {
     "name": "stdout",
     "output_type": "stream",
     "text": [
      "[Array] [\"*\",\"T\",\"L\",\"S\",\"I\",\"E\",\"H\",\"S\",\"*\"]\n"
     ]
    }
   ],
   "source": [
    "// use [] to create a set of characters to match\n",
    "// you don't have to escape special characters like * or . inside the brackets\n",
    "var spongeBob = \"*TaLkSlIkEtHiS*\";\n",
    "console.log(spongeBob.match(/[A-Z*]/g));"
   ]
  },
  {
   "cell_type": "code",
   "execution_count": 267,
   "metadata": {
    "scrolled": true,
    "slideshow": {
     "slide_type": "fragment"
    }
   },
   "outputs": [
    {
     "name": "stdout",
     "output_type": "stream",
     "text": [
      "[Array] [\"a\",\"k\",\"l\",\"k\",\"t\",\"i\"]\n"
     ]
    }
   ],
   "source": [
    "// remember you can negate a class with ^\n",
    "console.log(spongeBob.match(/[^A-Z*]/g));"
   ]
  },
  {
   "cell_type": "markdown",
   "metadata": {
    "scrolled": true,
    "slideshow": {
     "slide_type": "slide"
    }
   },
   "source": [
    "### Parentheticals"
   ]
  },
  {
   "cell_type": "code",
   "execution_count": 268,
   "metadata": {
    "scrolled": true,
    "slideshow": {
     "slide_type": "fragment"
    }
   },
   "outputs": [
    {
     "name": "stdout",
     "output_type": "stream",
     "text": [
      "[Array] [\"AAAAAAAAA\",\"EEEEEEEE\",\"AAAAAAAAAAAA\"]\n",
      "[Array] [\"AAAAAAAAAEEEEEEEEAAAAAAAAAAAA\"]\n"
     ]
    }
   ],
   "source": [
    "// use () to group a set of characters to match\n",
    "var endlessScreaming = \"AAAAAAAAAEEEEEEEEAAAAAAAAAAAAHHHHHHHHH\";\n",
    "// we want to group all the vowels together, so we use parens\n",
    "console.log(endlessScreaming.match(/([AEIOU])\\1+/g));\n",
    "// without the parens we would have to know in advance what the different vowels are\n",
    "console.log(endlessScreaming.match(/[AEIOU]+/g));"
   ]
  },
  {
   "cell_type": "markdown",
   "metadata": {
    "collapsed": true,
    "slideshow": {
     "slide_type": "slide"
    }
   },
   "source": [
    "### String.replace()"
   ]
  },
  {
   "cell_type": "code",
   "execution_count": 269,
   "metadata": {
    "scrolled": true,
    "slideshow": {
     "slide_type": "fragment"
    }
   },
   "outputs": [
    {
     "name": "stdout",
     "output_type": "stream",
     "text": [
      "Doe, Jane\n"
     ]
    }
   ],
   "source": [
    "var myName=\"Jane Doe\";\n",
    "console.log(myName.replace(/(\\w+) (\\w+)$/, '$2, $1'));"
   ]
  },
  {
   "cell_type": "code",
   "execution_count": 270,
   "metadata": {
    "scrolled": true,
    "slideshow": {
     "slide_type": "fragment"
    }
   },
   "outputs": [
    {
     "name": "stdout",
     "output_type": "stream",
     "text": [
      "Schmitt, John Jacob Jingleheimer\n"
     ]
    }
   ],
   "source": [
    "var myName=\"John Jacob Jingleheimer Schmitt\";\n",
    "console.log(myName.replace(/(.+)(?: (\\w+))$/, '$2, $1'));"
   ]
  },
  {
   "cell_type": "code",
   "execution_count": 271,
   "metadata": {
    "scrolled": true,
    "slideshow": {
     "slide_type": "slide"
    }
   },
   "outputs": [
    {
     "name": "stdout",
     "output_type": "stream",
     "text": [
      "Schmitt, John Jacob Jingleheimer\n"
     ]
    }
   ],
   "source": [
    "//let's break this down\n",
    "console.log(myName.replace(/(.+)(?: (\\w+))$/, '$2, $1'));\n",
    "//(.+) = one or more of any character = $1\n",
    "//(?:  = uses a parenthesis to group, but does NOT assign it to a $ \n",
    "// ^^ notice there's a space after that ?: ...  it's the last space in the name\n",
    "//(\\w+) one or more word characters, this is $2\n",
    "//$ = end of line\n",
    "// then replace with $2 = Schmitt, $1 = John Jacob Jingleheimer"
   ]
  },
  {
   "cell_type": "code",
   "execution_count": 272,
   "metadata": {
    "scrolled": true,
    "slideshow": {
     "slide_type": "slide"
    }
   },
   "outputs": [
    {
     "name": "stdout",
     "output_type": "stream",
     "text": [
      "John Jacob Jingleheimer Schmitt-Jones\n",
      "Schmitt-Jones, John Jacob Jingleheimer\n",
      "John Jacob Jingleheimer O'Leary\n",
      "O'Leary, John Jacob Jingleheimer\n"
     ]
    }
   ],
   "source": [
    "var myName=\"John Jacob Jingleheimer Schmitt-Jones\";\n",
    "console.log(myName.replace(/(.+)(?: (\\w+))$/, '$2, $1'));\n",
    "console.log(myName.replace(/(.+)(?: (.+))$/, '$2, $1'));\n",
    "var myName=\"John Jacob Jingleheimer O'Leary\";\n",
    "console.log(myName.replace(/(.+)(?: (\\w+))$/, '$2, $1'));\n",
    "console.log(myName.replace(/(.+)(?: (.+))$/, '$2, $1'));"
   ]
  },
  {
   "cell_type": "markdown",
   "metadata": {
    "slideshow": {
     "slide_type": "slide"
    }
   },
   "source": [
    "### When NOT to use regex"
   ]
  },
  {
   "cell_type": "markdown",
   "metadata": {
    "scrolled": true,
    "slideshow": {
     "slide_type": "fragment"
    }
   },
   "source": [
    "* where there are string methods you can use (e.g., _String.startsWith(), .endsWith(), .includes(), .indexOf()_)"
   ]
  },
  {
   "cell_type": "markdown",
   "metadata": {
    "scrolled": true,
    "slideshow": {
     "slide_type": "fragment"
    }
   },
   "source": [
    "* where there are already robust parsers (HTML, XML, JSON)"
   ]
  },
  {
   "cell_type": "markdown",
   "metadata": {
    "scrolled": true,
    "slideshow": {
     "slide_type": "fragment"
    }
   },
   "source": [
    "* where there are well-supported, well-tested libraries for specific use cases (urls, email, other validations)"
   ]
  },
  {
   "cell_type": "markdown",
   "metadata": {
    "slideshow": {
     "slide_type": "slide"
    }
   },
   "source": [
    "### When to THINK HARD 🤔 about whether to use regex"
   ]
  },
  {
   "cell_type": "markdown",
   "metadata": {
    "scrolled": true,
    "slideshow": {
     "slide_type": "fragment"
    }
   },
   "source": [
    "* when you need very performant code"
   ]
  },
  {
   "cell_type": "markdown",
   "metadata": {
    "scrolled": true,
    "slideshow": {
     "slide_type": "fragment"
    }
   },
   "source": [
    "* when there's a chance that your users will be able to ReDOS you 😢"
   ]
  },
  {
   "cell_type": "markdown",
   "metadata": {
    "slideshow": {
     "slide_type": "slide"
    }
   },
   "source": [
    "### When using regex you should ... "
   ]
  },
  {
   "cell_type": "markdown",
   "metadata": {
    "scrolled": true,
    "slideshow": {
     "slide_type": "fragment"
    }
   },
   "source": [
    "* know your data! "
   ]
  },
  {
   "cell_type": "markdown",
   "metadata": {
    "scrolled": true,
    "slideshow": {
     "slide_type": "fragment"
    }
   },
   "source": [
    "* comment your regex!"
   ]
  },
  {
   "cell_type": "markdown",
   "metadata": {
    "scrolled": true,
    "slideshow": {
     "slide_type": "fragment"
    }
   },
   "source": [
    "* remember: _an ounce of input validation is worth a pound of backend regex_\n"
   ]
  },
  {
   "cell_type": "markdown",
   "metadata": {
    "slideshow": {
     "slide_type": "slide"
    }
   },
   "source": [
    "### Obligatory xkcd Slide\n",
    "<div><div style=\"text-align: center\"><img src=\"images/regular_expressions.png\" alt=\"stand back! I know regular expressions\" style=\"width: 400; height: 280\"><p style=\"margin: 0px 480px; font-size: small\">https://xkcd.com/208/</p></div></div>\n",
    "\n"
   ]
  },
  {
   "cell_type": "markdown",
   "metadata": {
    "slideshow": {
     "slide_type": "slide"
    }
   },
   "source": [
    "### Help is Available!\n",
    "\n",
    "* https://www.debuggex.com/\n",
    "* https://regex101.com/\n",
    "* https://regexr.com/\n",
    "* https://www.regexpal.com/\n",
    "* https://www.regextester.com/\n",
    "* http://scriptular.com/\n",
    "\n"
   ]
  },
  {
   "cell_type": "markdown",
   "metadata": {
    "slideshow": {
     "slide_type": "slide"
    }
   },
   "source": [
    "### But Wait! There's More!\n",
    "\n",
    "* MDN web docs should be your first stop:  https://developer.mozilla.org/en-US/docs/Web/JavaScript/Reference\n",
    "*  *Mastering Regular Expressions, 3rd Edition*, Jeffrey Friedl (O'Reilly, 2009)\n",
    "*  *Eloquent Javascript*, Marijn Haverbeke (No Starch Press, 2014)\n",
    "*  *JavaScript, The Good Parts*, Douglas Crockford (Yahoo Press, 2008)\n",
    "*  *Learning JavaScript, 3e*, Ethan Brown (O'Reilly, 2016)\n",
    "*  *Practical Modern JavaScript*, Nicolas Bevacqua (O'Reilly, 2017)"
   ]
  },
  {
   "cell_type": "markdown",
   "metadata": {
    "slideshow": {
     "slide_type": "slide"
    }
   },
   "source": [
    "### To level up ... \n",
    "\n",
    "* Regex Crossword (https://regexcrossword.com/)\n",
    "* Regex Golf (https://alf.nu/RegexGolf)"
   ]
  },
  {
   "cell_type": "markdown",
   "metadata": {
    "slideshow": {
     "slide_type": "fragment"
    }
   },
   "source": [
    "<div style=\"width: 900px;\">\n",
    "    <div style=\"width: 900px; height: 700px;\" ><div style=\"text-align: center\"><img src=\"images/regexgolf.png\" alt=\"regex golf\" style=\"width: 700px;\"/></div>\n",
    "</div>\n",
    "</div>"
   ]
  },
  {
   "cell_type": "markdown",
   "metadata": {
    "slideshow": {
     "slide_type": "slide"
    }
   },
   "source": [
    "<div style=\"width: 900px;\">\n",
    "    <div style=\"width: 900px; height: 700px;\" ><div style=\"text-align: center\"><img src=\"images/semicolon-sticker.jpg\" alt=\"semicolon sticker\" style=\"width: 700px;\"/></div>\n",
    "</div>\n",
    "</div>"
   ]
  },
  {
   "cell_type": "markdown",
   "metadata": {
    "slideshow": {
     "slide_type": "slide"
    }
   },
   "source": [
    "<div style=\"width: 900px;\">\n",
    "    <div style=\"width: 500px; height: 450px; float: left;\" ><div style=\"text-align: center\"><img src=\"images/thankyoubot.png\" alt=\"thankful robot\" style=\"width: 500px;\"/></div>\n",
    "</div>\n",
    "<div style=\"width: 10px; height: 150px; float: left;\"></div>\n",
    "    <div style=\"width: 400px; height: 150px; float: right;\"><div style=\"text-align: left; font-size: large; font-family: serif\">\n",
    "    <br>\n",
    "    <span style=\"font-size: 28px;line-height: 115%;\"><i>twitter &amp; github</i>: @emckean</span>\n",
    "    <br>\n",
    "    <span style=\"font-size: 28px;line-height: 115%;\"><i>this preso + links</i>: bit.ly/regexen</span>\n",
    "    <p>\n",
    "    <span style=\"font-size: 28px; line-height: 115%;\"><i>Sign up for IBM Cloud!</i> https://ibm.biz/BdYE5x</span>\n",
    "    <p>\n",
    "        <span style=\"font-size: 28px; line-height: 115%;\"><i>Check out IBM Code Patterns!</i> https://developer.ibm.com/code/patterns/</span>\n",
    "    <br>\n",
    " </div></div>\n",
    "    </div>\n",
    "</div>"
   ]
  },
  {
   "cell_type": "code",
   "execution_count": null,
   "metadata": {},
   "outputs": [],
   "source": []
  }
 ],
 "metadata": {
  "celltoolbar": "Slideshow",
  "kernelspec": {
   "display_name": "NodeJS",
   "language": "javascript",
   "name": "nodejs"
  },
  "language_info": {
   "codemirror_mode": "javascript",
   "file_extension": ".js",
   "mimetype": "text/javascript",
   "name": "nodejs",
   "pygments_lexer": "javascript",
   "version": "0.10"
  }
 },
 "nbformat": 4,
 "nbformat_minor": 2
}
